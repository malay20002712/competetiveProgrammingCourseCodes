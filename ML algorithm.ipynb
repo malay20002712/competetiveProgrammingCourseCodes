{
 "cells": [
  {
   "cell_type": "code",
   "execution_count": 47,
   "id": "530d3456",
   "metadata": {},
   "outputs": [],
   "source": [
    "import pandas as pd\n",
    "import numpy as np\n",
    "import matplotlib.pyplot as plt\n",
    "import seaborn as sb"
   ]
  },
  {
   "cell_type": "code",
   "execution_count": 48,
   "id": "a8aea335",
   "metadata": {
    "scrolled": true
   },
   "outputs": [
    {
     "data": {
      "text/html": [
       "<div>\n",
       "<style scoped>\n",
       "    .dataframe tbody tr th:only-of-type {\n",
       "        vertical-align: middle;\n",
       "    }\n",
       "\n",
       "    .dataframe tbody tr th {\n",
       "        vertical-align: top;\n",
       "    }\n",
       "\n",
       "    .dataframe thead th {\n",
       "        text-align: right;\n",
       "    }\n",
       "</style>\n",
       "<table border=\"1\" class=\"dataframe\">\n",
       "  <thead>\n",
       "    <tr style=\"text-align: right;\">\n",
       "      <th></th>\n",
       "      <th>classification</th>\n",
       "      <th>Precision</th>\n",
       "      <th>Recall</th>\n",
       "      <th>F1 Score</th>\n",
       "      <th>Auroc</th>\n",
       "      <th>accuracy</th>\n",
       "    </tr>\n",
       "  </thead>\n",
       "  <tbody>\n",
       "    <tr>\n",
       "      <th>0</th>\n",
       "      <td>logistic regression</td>\n",
       "      <td>0.95</td>\n",
       "      <td>0.95</td>\n",
       "      <td>0.95</td>\n",
       "      <td>0.935</td>\n",
       "      <td>94.612</td>\n",
       "    </tr>\n",
       "    <tr>\n",
       "      <th>1</th>\n",
       "      <td>Support Vector machine</td>\n",
       "      <td>0.95</td>\n",
       "      <td>0.95</td>\n",
       "      <td>0.95</td>\n",
       "      <td>0.935</td>\n",
       "      <td>94.644</td>\n",
       "    </tr>\n",
       "    <tr>\n",
       "      <th>2</th>\n",
       "      <td>kernel SVM</td>\n",
       "      <td>0.96</td>\n",
       "      <td>0.96</td>\n",
       "      <td>0.95</td>\n",
       "      <td>0.943</td>\n",
       "      <td>95.506</td>\n",
       "    </tr>\n",
       "    <tr>\n",
       "      <th>3</th>\n",
       "      <td>K nearest neighbour</td>\n",
       "      <td>0.96</td>\n",
       "      <td>0.95</td>\n",
       "      <td>0.95</td>\n",
       "      <td>0.942</td>\n",
       "      <td>95.645</td>\n",
       "    </tr>\n",
       "    <tr>\n",
       "      <th>4</th>\n",
       "      <td>Na�ve Bayes</td>\n",
       "      <td>0.80</td>\n",
       "      <td>0.70</td>\n",
       "      <td>0.70</td>\n",
       "      <td>0.747</td>\n",
       "      <td>69.700</td>\n",
       "    </tr>\n",
       "  </tbody>\n",
       "</table>\n",
       "</div>"
      ],
      "text/plain": [
       "           classification  Precision  Recall  F1 Score  Auroc  accuracy\n",
       "0     logistic regression       0.95    0.95      0.95  0.935    94.612\n",
       "1  Support Vector machine       0.95    0.95      0.95  0.935    94.644\n",
       "2              kernel SVM       0.96    0.96      0.95  0.943    95.506\n",
       "3     K nearest neighbour       0.96    0.95      0.95  0.942    95.645\n",
       "4             Na�ve Bayes       0.80    0.70      0.70  0.747    69.700"
      ]
     },
     "execution_count": 48,
     "metadata": {},
     "output_type": "execute_result"
    }
   ],
   "source": [
    "data = pd.read_csv ('Desktop\\\\plotting.csv')\n",
    "data.head ()"
   ]
  },
  {
   "cell_type": "code",
   "execution_count": 49,
   "id": "0018b98d",
   "metadata": {},
   "outputs": [
    {
     "data": {
      "text/html": [
       "<div>\n",
       "<style scoped>\n",
       "    .dataframe tbody tr th:only-of-type {\n",
       "        vertical-align: middle;\n",
       "    }\n",
       "\n",
       "    .dataframe tbody tr th {\n",
       "        vertical-align: top;\n",
       "    }\n",
       "\n",
       "    .dataframe thead th {\n",
       "        text-align: right;\n",
       "    }\n",
       "</style>\n",
       "<table border=\"1\" class=\"dataframe\">\n",
       "  <thead>\n",
       "    <tr style=\"text-align: right;\">\n",
       "      <th></th>\n",
       "      <th>classification</th>\n",
       "      <th>Precision</th>\n",
       "      <th>Recall</th>\n",
       "      <th>F1 Score</th>\n",
       "      <th>Auroc</th>\n",
       "      <th>accuracy</th>\n",
       "    </tr>\n",
       "  </thead>\n",
       "  <tbody>\n",
       "    <tr>\n",
       "      <th>0</th>\n",
       "      <td>logistic regression</td>\n",
       "      <td>0.95</td>\n",
       "      <td>0.95</td>\n",
       "      <td>0.95</td>\n",
       "      <td>0.935</td>\n",
       "      <td>94.612</td>\n",
       "    </tr>\n",
       "    <tr>\n",
       "      <th>1</th>\n",
       "      <td>Support Vector machine</td>\n",
       "      <td>0.95</td>\n",
       "      <td>0.95</td>\n",
       "      <td>0.95</td>\n",
       "      <td>0.935</td>\n",
       "      <td>94.644</td>\n",
       "    </tr>\n",
       "    <tr>\n",
       "      <th>2</th>\n",
       "      <td>kernel SVM</td>\n",
       "      <td>0.96</td>\n",
       "      <td>0.96</td>\n",
       "      <td>0.95</td>\n",
       "      <td>0.943</td>\n",
       "      <td>95.506</td>\n",
       "    </tr>\n",
       "    <tr>\n",
       "      <th>3</th>\n",
       "      <td>K nearest neighbour</td>\n",
       "      <td>0.96</td>\n",
       "      <td>0.95</td>\n",
       "      <td>0.95</td>\n",
       "      <td>0.942</td>\n",
       "      <td>95.645</td>\n",
       "    </tr>\n",
       "    <tr>\n",
       "      <th>4</th>\n",
       "      <td>Na�ve Bayes</td>\n",
       "      <td>0.80</td>\n",
       "      <td>0.70</td>\n",
       "      <td>0.70</td>\n",
       "      <td>0.747</td>\n",
       "      <td>69.700</td>\n",
       "    </tr>\n",
       "    <tr>\n",
       "      <th>5</th>\n",
       "      <td>Decision Tree</td>\n",
       "      <td>0.96</td>\n",
       "      <td>0.96</td>\n",
       "      <td>0.95</td>\n",
       "      <td>0.943</td>\n",
       "      <td>95.518</td>\n",
       "    </tr>\n",
       "    <tr>\n",
       "      <th>6</th>\n",
       "      <td>Random Forest</td>\n",
       "      <td>0.96</td>\n",
       "      <td>0.95</td>\n",
       "      <td>0.95</td>\n",
       "      <td>0.942</td>\n",
       "      <td>9.450</td>\n",
       "    </tr>\n",
       "    <tr>\n",
       "      <th>7</th>\n",
       "      <td>XGBoost</td>\n",
       "      <td>0.96</td>\n",
       "      <td>0.96</td>\n",
       "      <td>0.95</td>\n",
       "      <td>0.942</td>\n",
       "      <td>95.511</td>\n",
       "    </tr>\n",
       "    <tr>\n",
       "      <th>8</th>\n",
       "      <td>AdaBoost</td>\n",
       "      <td>0.96</td>\n",
       "      <td>0.96</td>\n",
       "      <td>0.95</td>\n",
       "      <td>0.943</td>\n",
       "      <td>95.544</td>\n",
       "    </tr>\n",
       "    <tr>\n",
       "      <th>9</th>\n",
       "      <td>Multi-player</td>\n",
       "      <td>0.96</td>\n",
       "      <td>0.95</td>\n",
       "      <td>0.95</td>\n",
       "      <td>0.941</td>\n",
       "      <td>95.426</td>\n",
       "    </tr>\n",
       "  </tbody>\n",
       "</table>\n",
       "</div>"
      ],
      "text/plain": [
       "           classification  Precision  Recall  F1 Score  Auroc  accuracy\n",
       "0     logistic regression       0.95    0.95      0.95  0.935    94.612\n",
       "1  Support Vector machine       0.95    0.95      0.95  0.935    94.644\n",
       "2              kernel SVM       0.96    0.96      0.95  0.943    95.506\n",
       "3     K nearest neighbour       0.96    0.95      0.95  0.942    95.645\n",
       "4             Na�ve Bayes       0.80    0.70      0.70  0.747    69.700\n",
       "5           Decision Tree       0.96    0.96      0.95  0.943    95.518\n",
       "6           Random Forest       0.96    0.95      0.95  0.942     9.450\n",
       "7                 XGBoost       0.96    0.96      0.95  0.942    95.511\n",
       "8                AdaBoost       0.96    0.96      0.95  0.943    95.544\n",
       "9            Multi-player       0.96    0.95      0.95  0.941    95.426"
      ]
     },
     "execution_count": 49,
     "metadata": {},
     "output_type": "execute_result"
    }
   ],
   "source": [
    "df = pd.DataFrame (data)\n",
    "df"
   ]
  },
  {
   "cell_type": "code",
   "execution_count": 50,
   "id": "b351a11f",
   "metadata": {},
   "outputs": [
    {
     "data": {
      "text/plain": [
       "['logistic regression',\n",
       " 'Support Vector machine',\n",
       " 'kernel SVM',\n",
       " 'K nearest neighbour',\n",
       " 'Na�ve Bayes',\n",
       " 'Decision Tree',\n",
       " 'Random Forest',\n",
       " 'XGBoost',\n",
       " 'AdaBoost',\n",
       " 'Multi-player']"
      ]
     },
     "execution_count": 50,
     "metadata": {},
     "output_type": "execute_result"
    }
   ],
   "source": [
    "classification = df ['classification'].tolist ()\n",
    "classification"
   ]
  },
  {
   "cell_type": "code",
   "execution_count": 51,
   "id": "f0db5b4f",
   "metadata": {},
   "outputs": [
    {
     "data": {
      "text/plain": [
       "[0.95, 0.95, 0.96, 0.96, 0.8, 0.96, 0.96, 0.96, 0.96, 0.96]"
      ]
     },
     "execution_count": 51,
     "metadata": {},
     "output_type": "execute_result"
    }
   ],
   "source": [
    "precision = df ['Precision'].tolist ()\n",
    "precision"
   ]
  },
  {
   "cell_type": "code",
   "execution_count": 52,
   "id": "edc66ef1",
   "metadata": {},
   "outputs": [
    {
     "data": {
      "text/plain": [
       "[0.95, 0.95, 0.96, 0.95, 0.7, 0.96, 0.95, 0.96, 0.96, 0.95]"
      ]
     },
     "execution_count": 52,
     "metadata": {},
     "output_type": "execute_result"
    }
   ],
   "source": [
    "recall = df ['Recall'].tolist ()\n",
    "recall"
   ]
  },
  {
   "cell_type": "code",
   "execution_count": 53,
   "id": "87ddeb9a",
   "metadata": {},
   "outputs": [
    {
     "data": {
      "text/plain": [
       "[0.95, 0.95, 0.95, 0.95, 0.7, 0.95, 0.95, 0.95, 0.95, 0.95]"
      ]
     },
     "execution_count": 53,
     "metadata": {},
     "output_type": "execute_result"
    }
   ],
   "source": [
    "f1Score = df ['F1 Score'].tolist ()\n",
    "f1Score"
   ]
  },
  {
   "cell_type": "code",
   "execution_count": 54,
   "id": "68c78b90",
   "metadata": {},
   "outputs": [],
   "source": [
    "auroc = df ['Auroc'].tolist ()"
   ]
  },
  {
   "cell_type": "code",
   "execution_count": 55,
   "id": "c3c9dde0",
   "metadata": {},
   "outputs": [
    {
     "data": {
      "text/plain": [
       "[0.935, 0.935, 0.943, 0.942, 0.747, 0.943, 0.942, 0.942, 0.943, 0.941]"
      ]
     },
     "execution_count": 55,
     "metadata": {},
     "output_type": "execute_result"
    }
   ],
   "source": [
    "auroc"
   ]
  },
  {
   "cell_type": "code",
   "execution_count": 56,
   "id": "6b798ced",
   "metadata": {},
   "outputs": [],
   "source": [
    "accuracy = df ['accuracy'].tolist ()"
   ]
  },
  {
   "cell_type": "code",
   "execution_count": 57,
   "id": "6a6a4d50",
   "metadata": {},
   "outputs": [
    {
     "data": {
      "text/plain": [
       "[94.612, 94.644, 95.506, 95.645, 69.7, 95.518, 9.45, 95.511, 95.544, 95.426]"
      ]
     },
     "execution_count": 57,
     "metadata": {},
     "output_type": "execute_result"
    }
   ],
   "source": [
    "accuracy"
   ]
  },
  {
   "cell_type": "code",
   "execution_count": 58,
   "id": "58d20362",
   "metadata": {},
   "outputs": [],
   "source": [
    "numberOfApplication = []\n",
    "for i in range (1, 6):\n",
    "    numberOfApplication.append (i)"
   ]
  },
  {
   "cell_type": "code",
   "execution_count": 59,
   "id": "f58ab453",
   "metadata": {},
   "outputs": [],
   "source": [
    "list1 = []\n",
    "list1.append (precision [0])\n",
    "list1.append (recall [0])\n",
    "list1.append (f1Score [0])\n",
    "list1.append (auroc [0])\n",
    "list1.append (accuracy [0])"
   ]
  },
  {
   "cell_type": "code",
   "execution_count": 60,
   "id": "64caadc9",
   "metadata": {},
   "outputs": [
    {
     "data": {
      "image/png": "[encoded data removed]",
      "text/plain": [
       "<Figure size 432x288 with 1 Axes>"
      ]
     },
     "metadata": {
      "needs_background": "light"
     },
     "output_type": "display_data"
    }
   ],
   "source": [
    "plt.plot (list1, numberOfApplication)\n",
    "plt.xlabel ('Logistic regression under different conditions')\n",
    "plt.ylabel ('Number of Applications')\n",
    "plt.title ('Logistic Regression Under different Conditions VS Number of Applications')\n",
    "plt.grid (True)\n",
    "plt.show ()"
   ]
  },
  {
   "cell_type": "raw",
   "id": "31db53bb",
   "metadata": {},
   "source": [
    "list2 = []\n",
    "list2.append (precision [1])\n",
    "list2.append (recall [1])\n",
    "list2.append (f1Score [1])\n",
    "list2.append (auroc [1])\n",
    "list2.append (accuracy [1])"
   ]
  },
  {
   "cell_type": "code",
   "execution_count": 61,
   "id": "e14b939c",
   "metadata": {},
   "outputs": [
    {
     "data": {
      "image/png": "[encoded data removed]",
      "text/plain": [
       "<Figure size 432x288 with 1 Axes>"
      ]
     },
     "metadata": {
      "needs_background": "light"
     },
     "output_type": "display_data"
    }
   ],
   "source": [
    "plt.plot (list2, numberOfApplication)\n",
    "plt.xlabel ('Support Vector Machine Under different Conditions')\n",
    "plt.ylabel ('Number of applications')\n",
    "plt.title ('Number of Applications VS Support Vector Machine Under Different Conditions')\n",
    "plt.grid (True)\n",
    "plt.show ()"
   ]
  },
  {
   "cell_type": "code",
   "execution_count": 62,
   "id": "f4e1131d",
   "metadata": {},
   "outputs": [],
   "source": [
    "list3 = []\n",
    "list3.append (precision [2])\n",
    "list3.append (recall [2])\n",
    "list3.append (f1Score[2])\n",
    "list3.append (auroc [2])\n",
    "list3.append (accuracy [2])"
   ]
  },
  {
   "cell_type": "code",
   "execution_count": 63,
   "id": "97392229",
   "metadata": {},
   "outputs": [
    {
     "data": {
      "image/png": "[encoded data removed]",
      "text/plain": [
       "<Figure size 432x288 with 1 Axes>"
      ]
     },
     "metadata": {
      "needs_background": "light"
     },
     "output_type": "display_data"
    }
   ],
   "source": [
    "plt.plot (list3, numberOfApplication)\n",
    "plt.xlabel ('Kernel SVM')\n",
    "plt.ylabel ('Number of Application')\n",
    "plt.title ('NUmber of Application VS Kernel SVM in different conditions')\n",
    "plt.grid (True)\n",
    "plt.show ()"
   ]
  },
  {
   "cell_type": "code",
   "execution_count": 64,
   "id": "23b8c5bd",
   "metadata": {},
   "outputs": [
    {
     "data": {
      "text/html": [
       "<div>\n",
       "<style scoped>\n",
       "    .dataframe tbody tr th:only-of-type {\n",
       "        vertical-align: middle;\n",
       "    }\n",
       "\n",
       "    .dataframe tbody tr th {\n",
       "        vertical-align: top;\n",
       "    }\n",
       "\n",
       "    .dataframe thead th {\n",
       "        text-align: right;\n",
       "    }\n",
       "</style>\n",
       "<table border=\"1\" class=\"dataframe\">\n",
       "  <thead>\n",
       "    <tr style=\"text-align: right;\">\n",
       "      <th></th>\n",
       "      <th>classification</th>\n",
       "      <th>Precision</th>\n",
       "      <th>Recall</th>\n",
       "      <th>F1 Score</th>\n",
       "      <th>Auroc</th>\n",
       "      <th>accuracy</th>\n",
       "    </tr>\n",
       "  </thead>\n",
       "  <tbody>\n",
       "    <tr>\n",
       "      <th>0</th>\n",
       "      <td>logistic regression</td>\n",
       "      <td>0.95</td>\n",
       "      <td>0.95</td>\n",
       "      <td>0.95</td>\n",
       "      <td>0.935</td>\n",
       "      <td>94.612</td>\n",
       "    </tr>\n",
       "    <tr>\n",
       "      <th>1</th>\n",
       "      <td>Support Vector machine</td>\n",
       "      <td>0.95</td>\n",
       "      <td>0.95</td>\n",
       "      <td>0.95</td>\n",
       "      <td>0.935</td>\n",
       "      <td>94.644</td>\n",
       "    </tr>\n",
       "    <tr>\n",
       "      <th>2</th>\n",
       "      <td>kernel SVM</td>\n",
       "      <td>0.96</td>\n",
       "      <td>0.96</td>\n",
       "      <td>0.95</td>\n",
       "      <td>0.943</td>\n",
       "      <td>95.506</td>\n",
       "    </tr>\n",
       "    <tr>\n",
       "      <th>3</th>\n",
       "      <td>K nearest neighbour</td>\n",
       "      <td>0.96</td>\n",
       "      <td>0.95</td>\n",
       "      <td>0.95</td>\n",
       "      <td>0.942</td>\n",
       "      <td>95.645</td>\n",
       "    </tr>\n",
       "    <tr>\n",
       "      <th>4</th>\n",
       "      <td>Na�ve Bayes</td>\n",
       "      <td>0.80</td>\n",
       "      <td>0.70</td>\n",
       "      <td>0.70</td>\n",
       "      <td>0.747</td>\n",
       "      <td>69.700</td>\n",
       "    </tr>\n",
       "    <tr>\n",
       "      <th>5</th>\n",
       "      <td>Decision Tree</td>\n",
       "      <td>0.96</td>\n",
       "      <td>0.96</td>\n",
       "      <td>0.95</td>\n",
       "      <td>0.943</td>\n",
       "      <td>95.518</td>\n",
       "    </tr>\n",
       "    <tr>\n",
       "      <th>6</th>\n",
       "      <td>Random Forest</td>\n",
       "      <td>0.96</td>\n",
       "      <td>0.95</td>\n",
       "      <td>0.95</td>\n",
       "      <td>0.942</td>\n",
       "      <td>9.450</td>\n",
       "    </tr>\n",
       "    <tr>\n",
       "      <th>7</th>\n",
       "      <td>XGBoost</td>\n",
       "      <td>0.96</td>\n",
       "      <td>0.96</td>\n",
       "      <td>0.95</td>\n",
       "      <td>0.942</td>\n",
       "      <td>95.511</td>\n",
       "    </tr>\n",
       "    <tr>\n",
       "      <th>8</th>\n",
       "      <td>AdaBoost</td>\n",
       "      <td>0.96</td>\n",
       "      <td>0.96</td>\n",
       "      <td>0.95</td>\n",
       "      <td>0.943</td>\n",
       "      <td>95.544</td>\n",
       "    </tr>\n",
       "    <tr>\n",
       "      <th>9</th>\n",
       "      <td>Multi-player</td>\n",
       "      <td>0.96</td>\n",
       "      <td>0.95</td>\n",
       "      <td>0.95</td>\n",
       "      <td>0.941</td>\n",
       "      <td>95.426</td>\n",
       "    </tr>\n",
       "  </tbody>\n",
       "</table>\n",
       "</div>"
      ],
      "text/plain": [
       "           classification  Precision  Recall  F1 Score  Auroc  accuracy\n",
       "0     logistic regression       0.95    0.95      0.95  0.935    94.612\n",
       "1  Support Vector machine       0.95    0.95      0.95  0.935    94.644\n",
       "2              kernel SVM       0.96    0.96      0.95  0.943    95.506\n",
       "3     K nearest neighbour       0.96    0.95      0.95  0.942    95.645\n",
       "4             Na�ve Bayes       0.80    0.70      0.70  0.747    69.700\n",
       "5           Decision Tree       0.96    0.96      0.95  0.943    95.518\n",
       "6           Random Forest       0.96    0.95      0.95  0.942     9.450\n",
       "7                 XGBoost       0.96    0.96      0.95  0.942    95.511\n",
       "8                AdaBoost       0.96    0.96      0.95  0.943    95.544\n",
       "9            Multi-player       0.96    0.95      0.95  0.941    95.426"
      ]
     },
     "execution_count": 64,
     "metadata": {},
     "output_type": "execute_result"
    }
   ],
   "source": [
    "df"
   ]
  },
  {
   "cell_type": "code",
   "execution_count": 65,
   "id": "49009209",
   "metadata": {},
   "outputs": [],
   "source": [
    "list4 = []\n",
    "list4.append (precision [3])\n",
    "list4.append (recall [3])\n",
    "list4.append (f1Score [3])\n",
    "list4.append (auroc [3])\n",
    "list4.append (accuracy [3])"
   ]
  },
  {
   "cell_type": "code",
   "execution_count": 66,
   "id": "b4f99d5c",
   "metadata": {},
   "outputs": [
    {
     "data": {
      "text/plain": [
       "[0.96, 0.95, 0.95, 0.942, 95.645]"
      ]
     },
     "execution_count": 66,
     "metadata": {},
     "output_type": "execute_result"
    }
   ],
   "source": [
    "list4"
   ]
  },
  {
   "cell_type": "code",
   "execution_count": 68,
   "id": "a017a83c",
   "metadata": {},
   "outputs": [
    {
     "ename": "NameError",
     "evalue": "name 'plot' is not defined",
     "output_type": "error",
     "traceback": [
      "\u001b[1;31m---------------------------------------------------------------------------\u001b[0m",
      "\u001b[1;31mNameError\u001b[0m                                 Traceback (most recent call last)",
      "\u001b[1;32m<ipython-input-68-e89a80842cb0>\u001b[0m in \u001b[0;36m<module>\u001b[1;34m\u001b[0m\n\u001b[0;32m      1\u001b[0m \u001b[0mplt\u001b[0m\u001b[1;33m.\u001b[0m\u001b[0mplot\u001b[0m \u001b[1;33m(\u001b[0m\u001b[0mlist4\u001b[0m\u001b[1;33m,\u001b[0m \u001b[0mnumberOfApplication\u001b[0m\u001b[1;33m)\u001b[0m\u001b[1;33m\u001b[0m\u001b[1;33m\u001b[0m\u001b[0m\n\u001b[0;32m      2\u001b[0m \u001b[0mplt\u001b[0m\u001b[1;33m.\u001b[0m\u001b[0mxlabel\u001b[0m \u001b[1;33m(\u001b[0m\u001b[1;34m'K nearest Neighbour'\u001b[0m\u001b[1;33m)\u001b[0m\u001b[1;33m\u001b[0m\u001b[1;33m\u001b[0m\u001b[0m\n\u001b[1;32m----> 3\u001b[1;33m \u001b[0mplot\u001b[0m\u001b[1;33m.\u001b[0m\u001b[0mylabel\u001b[0m \u001b[1;33m(\u001b[0m\u001b[1;34m'Number of Applications'\u001b[0m\u001b[1;33m)\u001b[0m\u001b[1;33m\u001b[0m\u001b[1;33m\u001b[0m\u001b[0m\n\u001b[0m\u001b[0;32m      4\u001b[0m \u001b[0mplt\u001b[0m\u001b[1;33m.\u001b[0m\u001b[0mtitle\u001b[0m \u001b[1;33m(\u001b[0m\u001b[1;34m'K nearest Neighbour VS Number of Application'\u001b[0m\u001b[1;33m)\u001b[0m\u001b[1;33m\u001b[0m\u001b[1;33m\u001b[0m\u001b[0m\n\u001b[0;32m      5\u001b[0m \u001b[0mplt\u001b[0m\u001b[1;33m.\u001b[0m\u001b[0mgrid\u001b[0m \u001b[1;33m(\u001b[0m\u001b[1;32mTrue\u001b[0m\u001b[1;33m)\u001b[0m\u001b[1;33m\u001b[0m\u001b[1;33m\u001b[0m\u001b[0m\n",
      "\u001b[1;31mNameError\u001b[0m: name 'plot' is not defined"
     ]
    },
    {
     "data": {
      "image/png": "[encoded data removed]",
      "text/plain": [
       "<Figure size 432x288 with 1 Axes>"
      ]
     },
     "metadata": {
      "needs_background": "light"
     },
     "output_type": "display_data"
    }
   ],
   "source": [
    "plt.plot (list4, numberOfApplication)\n",
    "plt.xlabel ('K nearest Neighbour')\n",
    "plot.ylabel ('Number of Applications')\n",
    "plt.title ('K nearest Neighbour VS Number of Application')\n",
    "plt.grid (True)\n",
    "plt.show ()"
   ]
  },
  {
   "cell_type": "code",
   "execution_count": 73,
   "id": "185a3e10",
   "metadata": {},
   "outputs": [],
   "source": [
    "list5 = []\n",
    "list5.append (precision [4])\n",
    "list5.append (recall [4])\n",
    "list5.append (f1Score [4])\n",
    "list5.append (auroc [4])\n",
    "list5.append (accuracy [4])"
   ]
  },
  {
   "cell_type": "code",
   "execution_count": 70,
   "id": "9c8f5faf",
   "metadata": {},
   "outputs": [
    {
     "data": {
      "text/html": [
       "<div>\n",
       "<style scoped>\n",
       "    .dataframe tbody tr th:only-of-type {\n",
       "        vertical-align: middle;\n",
       "    }\n",
       "\n",
       "    .dataframe tbody tr th {\n",
       "        vertical-align: top;\n",
       "    }\n",
       "\n",
       "    .dataframe thead th {\n",
       "        text-align: right;\n",
       "    }\n",
       "</style>\n",
       "<table border=\"1\" class=\"dataframe\">\n",
       "  <thead>\n",
       "    <tr style=\"text-align: right;\">\n",
       "      <th></th>\n",
       "      <th>classification</th>\n",
       "      <th>Precision</th>\n",
       "      <th>Recall</th>\n",
       "      <th>F1 Score</th>\n",
       "      <th>Auroc</th>\n",
       "      <th>accuracy</th>\n",
       "    </tr>\n",
       "  </thead>\n",
       "  <tbody>\n",
       "    <tr>\n",
       "      <th>0</th>\n",
       "      <td>logistic regression</td>\n",
       "      <td>0.95</td>\n",
       "      <td>0.95</td>\n",
       "      <td>0.95</td>\n",
       "      <td>0.935</td>\n",
       "      <td>94.612</td>\n",
       "    </tr>\n",
       "    <tr>\n",
       "      <th>1</th>\n",
       "      <td>Support Vector machine</td>\n",
       "      <td>0.95</td>\n",
       "      <td>0.95</td>\n",
       "      <td>0.95</td>\n",
       "      <td>0.935</td>\n",
       "      <td>94.644</td>\n",
       "    </tr>\n",
       "    <tr>\n",
       "      <th>2</th>\n",
       "      <td>kernel SVM</td>\n",
       "      <td>0.96</td>\n",
       "      <td>0.96</td>\n",
       "      <td>0.95</td>\n",
       "      <td>0.943</td>\n",
       "      <td>95.506</td>\n",
       "    </tr>\n",
       "    <tr>\n",
       "      <th>3</th>\n",
       "      <td>K nearest neighbour</td>\n",
       "      <td>0.96</td>\n",
       "      <td>0.95</td>\n",
       "      <td>0.95</td>\n",
       "      <td>0.942</td>\n",
       "      <td>95.645</td>\n",
       "    </tr>\n",
       "    <tr>\n",
       "      <th>4</th>\n",
       "      <td>Na�ve Bayes</td>\n",
       "      <td>0.80</td>\n",
       "      <td>0.70</td>\n",
       "      <td>0.70</td>\n",
       "      <td>0.747</td>\n",
       "      <td>69.700</td>\n",
       "    </tr>\n",
       "    <tr>\n",
       "      <th>5</th>\n",
       "      <td>Decision Tree</td>\n",
       "      <td>0.96</td>\n",
       "      <td>0.96</td>\n",
       "      <td>0.95</td>\n",
       "      <td>0.943</td>\n",
       "      <td>95.518</td>\n",
       "    </tr>\n",
       "    <tr>\n",
       "      <th>6</th>\n",
       "      <td>Random Forest</td>\n",
       "      <td>0.96</td>\n",
       "      <td>0.95</td>\n",
       "      <td>0.95</td>\n",
       "      <td>0.942</td>\n",
       "      <td>9.450</td>\n",
       "    </tr>\n",
       "    <tr>\n",
       "      <th>7</th>\n",
       "      <td>XGBoost</td>\n",
       "      <td>0.96</td>\n",
       "      <td>0.96</td>\n",
       "      <td>0.95</td>\n",
       "      <td>0.942</td>\n",
       "      <td>95.511</td>\n",
       "    </tr>\n",
       "    <tr>\n",
       "      <th>8</th>\n",
       "      <td>AdaBoost</td>\n",
       "      <td>0.96</td>\n",
       "      <td>0.96</td>\n",
       "      <td>0.95</td>\n",
       "      <td>0.943</td>\n",
       "      <td>95.544</td>\n",
       "    </tr>\n",
       "    <tr>\n",
       "      <th>9</th>\n",
       "      <td>Multi-player</td>\n",
       "      <td>0.96</td>\n",
       "      <td>0.95</td>\n",
       "      <td>0.95</td>\n",
       "      <td>0.941</td>\n",
       "      <td>95.426</td>\n",
       "    </tr>\n",
       "  </tbody>\n",
       "</table>\n",
       "</div>"
      ],
      "text/plain": [
       "           classification  Precision  Recall  F1 Score  Auroc  accuracy\n",
       "0     logistic regression       0.95    0.95      0.95  0.935    94.612\n",
       "1  Support Vector machine       0.95    0.95      0.95  0.935    94.644\n",
       "2              kernel SVM       0.96    0.96      0.95  0.943    95.506\n",
       "3     K nearest neighbour       0.96    0.95      0.95  0.942    95.645\n",
       "4             Na�ve Bayes       0.80    0.70      0.70  0.747    69.700\n",
       "5           Decision Tree       0.96    0.96      0.95  0.943    95.518\n",
       "6           Random Forest       0.96    0.95      0.95  0.942     9.450\n",
       "7                 XGBoost       0.96    0.96      0.95  0.942    95.511\n",
       "8                AdaBoost       0.96    0.96      0.95  0.943    95.544\n",
       "9            Multi-player       0.96    0.95      0.95  0.941    95.426"
      ]
     },
     "execution_count": 70,
     "metadata": {},
     "output_type": "execute_result"
    }
   ],
   "source": [
    "df"
   ]
  },
  {
   "cell_type": "code",
   "execution_count": 74,
   "id": "591794c2",
   "metadata": {},
   "outputs": [
    {
     "data": {
      "image/png": "[encoded data removed]",
      "text/plain": [
       "<Figure size 432x288 with 1 Axes>"
      ]
     },
     "metadata": {
      "needs_background": "light"
     },
     "output_type": "display_data"
    }
   ],
   "source": [
    "plt.plot (list5, numberOfApplication)\n",
    "plt.xlabel ('Naive Bayes')\n",
    "plt.ylabel ('Number of Application')\n",
    "plt.title ('Naive Bayes VS Number of Application')\n",
    "plt.grid (True)\n",
    "plt.show ()"
   ]
  },
  {
   "cell_type": "code",
   "execution_count": 75,
   "id": "9d3d8240",
   "metadata": {},
   "outputs": [],
   "source": [
    "list6 = []\n",
    "list6.append (precision [5])\n",
    "list6.append (recall [5])\n",
    "list6.append (f1Score [5])\n",
    "list6.append (auroc [5])\n",
    "list6.append (accuracy [5])"
   ]
  },
  {
   "cell_type": "code",
   "execution_count": 76,
   "id": "1227b281",
   "metadata": {},
   "outputs": [
    {
     "data": {
      "image/png": "[encoded data removed]",
      "text/plain": [
       "<Figure size 432x288 with 1 Axes>"
      ]
     },
     "metadata": {
      "needs_background": "light"
     },
     "output_type": "display_data"
    }
   ],
   "source": [
    "plt.plot (list6, numberOfApplication)\n",
    "plt.xlabel ('Decision Tree')\n",
    "plt.ylabel ('Number of Application')\n",
    "plt.title ('Decision Tree')\n",
    "plt.grid (True)\n",
    "plt.show ()"
   ]
  },
  {
   "cell_type": "code",
   "execution_count": 77,
   "id": "fccd4db5",
   "metadata": {},
   "outputs": [],
   "source": [
    "list7 = []\n",
    "list7.append (precision [6])\n",
    "list7.append (recall [6])\n",
    "list7.append (f1Score [6])\n",
    "list7.append (auroc [6])\n",
    "list7.append (accuracy [6])"
   ]
  },
  {
   "cell_type": "code",
   "execution_count": 79,
   "id": "8a85cac5",
   "metadata": {},
   "outputs": [
    {
     "data": {
      "image/png": "[encoded data removed]",
      "text/plain": [
       "<Figure size 432x288 with 1 Axes>"
      ]
     },
     "metadata": {
      "needs_background": "light"
     },
     "output_type": "display_data"
    }
   ],
   "source": [
    "plt.plot (list7, numberOfApplication)\n",
    "plt.xlabel ('Random Forest')\n",
    "plt.ylabel ('Number of Applications')\n",
    "plt.title ('Random Forest VS Number Of Applications')\n",
    "plt.grid (True)\n",
    "plt.show ()"
   ]
  },
  {
   "cell_type": "code",
   "execution_count": 80,
   "id": "5fea05f1",
   "metadata": {},
   "outputs": [],
   "source": [
    "list8 = []\n",
    "list8.append (precision [7])\n",
    "list8.append (recall [7])\n",
    "list8.append (f1Score [7])\n",
    "list8.append (auroc [7])\n",
    "list8.append (accuracy [7])"
   ]
  },
  {
   "cell_type": "code",
   "execution_count": 81,
   "id": "45e4f903",
   "metadata": {},
   "outputs": [
    {
     "data": {
      "image/png": "[encoded data removed]",
      "text/plain": [
       "<Figure size 432x288 with 1 Axes>"
      ]
     },
     "metadata": {
      "needs_background": "light"
     },
     "output_type": "display_data"
    }
   ],
   "source": [
    "plt.plot (list8, numberOfApplication)\n",
    "plt.xlabel ('XG Boost')\n",
    "plt.ylabel ('Number of Applications')\n",
    "plt.title ('Random Forest VS Number Of Applications')\n",
    "plt.grid (True)\n",
    "plt.show ()"
   ]
  },
  {
   "cell_type": "code",
   "execution_count": 82,
   "id": "7b9665b4",
   "metadata": {},
   "outputs": [],
   "source": [
    "list9 = []\n",
    "list9.append (precision [8])\n",
    "list9.append (recall [8])\n",
    "list9.append (f1Score [8])\n",
    "list9.append (auroc [8])\n",
    "list9.append (accuracy [8])"
   ]
  },
  {
   "cell_type": "code",
   "execution_count": 83,
   "id": "737e8e15",
   "metadata": {},
   "outputs": [
    {
     "data": {
      "image/png": "[encoded data removed]",
      "text/plain": [
       "<Figure size 432x288 with 1 Axes>"
      ]
     },
     "metadata": {
      "needs_background": "light"
     },
     "output_type": "display_data"
    }
   ],
   "source": [
    "plt.plot (list9, numberOfApplication)\n",
    "plt.xlabel (' AdaBoost')\n",
    "plt.ylabel ('Number of Applications')\n",
    "plt.title ('AdaBoost VS Number Of Applications')\n",
    "plt.grid (True)\n",
    "plt.show ()"
   ]
  },
  {
   "cell_type": "code",
   "execution_count": 85,
   "id": "7bf44db0",
   "metadata": {},
   "outputs": [],
   "source": [
    "list10 = []\n",
    "list10.append (precision [9])\n",
    "list10.append (recall [9])\n",
    "list10.append (f1Score [9])\n",
    "list10.append (auroc [9])\n",
    "list10.append (accuracy [9])"
   ]
  },
  {
   "cell_type": "code",
   "execution_count": 86,
   "id": "699dc063",
   "metadata": {},
   "outputs": [
    {
     "data": {
      "image/png": "[encoded data removed]",
      "text/plain": [
       "<Figure size 432x288 with 1 Axes>"
      ]
     },
     "metadata": {
      "needs_background": "light"
     },
     "output_type": "display_data"
    }
   ],
   "source": [
    "plt.plot (list10, numberOfApplication)\n",
    "plt.xlabel ('Multi_player')\n",
    "plt.ylabel ('Number of Applications')\n",
    "plt.title ('Multi-Player VS Number Of Applications')\n",
    "plt.grid (True)\n",
    "plt.show ()"
   ]
  },
  {
   "cell_type": "code",
   "execution_count": null,
   "id": "19a08edc",
   "metadata": {},
   "outputs": [],
   "source": []
  }
 ],
 "metadata": {
  "kernelspec": {
   "display_name": "Python 3",
   "language": "python",
   "name": "python3"
  },
  "language_info": {
   "codemirror_mode": {
    "name": "ipython",
    "version": 3
   },
   "file_extension": ".py",
   "mimetype": "text/x-python",
   "name": "python",
   "nbconvert_exporter": "python",
   "pygments_lexer": "ipython3",
   "version": "3.8.8"
  }
 },
 "nbformat": 4,
 "nbformat_minor": 5
}
